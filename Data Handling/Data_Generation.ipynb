{
  "nbformat": 4,
  "nbformat_minor": 0,
  "metadata": {
    "colab": {
      "provenance": []
    },
    "kernelspec": {
      "name": "python3",
      "display_name": "Python 3"
    },
    "language_info": {
      "name": "python"
    }
  },
  "cells": [
    {
      "cell_type": "markdown",
      "source": [
        "# Setting up Necessary Modules"
      ],
      "metadata": {
        "id": "qK2WdKlxukBy"
      }
    },
    {
      "cell_type": "code",
      "execution_count": null,
      "metadata": {
        "colab": {
          "base_uri": "https://localhost:8080/"
        },
        "id": "def2f24f",
        "outputId": "5b3c4421-d636-4156-da2d-f60ad3c1412f"
      },
      "outputs": [
        {
          "output_type": "stream",
          "name": "stdout",
          "text": [
            "Collecting interpolation\n",
            "  Downloading interpolation-2.2.7-py3-none-any.whl.metadata (913 bytes)\n",
            "Requirement already satisfied: numba>=0.59.1 in /usr/local/lib/python3.11/dist-packages (from interpolation) (0.60.0)\n",
            "Requirement already satisfied: scipy<2.0,>=1.10 in /usr/local/lib/python3.11/dist-packages (from interpolation) (1.15.2)\n",
            "Requirement already satisfied: llvmlite<0.44,>=0.43.0dev0 in /usr/local/lib/python3.11/dist-packages (from numba>=0.59.1->interpolation) (0.43.0)\n",
            "Requirement already satisfied: numpy<2.1,>=1.22 in /usr/local/lib/python3.11/dist-packages (from numba>=0.59.1->interpolation) (2.0.2)\n",
            "Downloading interpolation-2.2.7-py3-none-any.whl (80 kB)\n",
            "\u001b[2K   \u001b[90m━━━━━━━━━━━━━━━━━━━━━━━━━━━━━━━━━━━━━━━━\u001b[0m \u001b[32m80.5/80.5 kB\u001b[0m \u001b[31m3.2 MB/s\u001b[0m eta \u001b[36m0:00:00\u001b[0m\n",
            "\u001b[?25hInstalling collected packages: interpolation\n",
            "Successfully installed interpolation-2.2.7\n"
          ]
        }
      ],
      "source": [
        "''' Installing some prerequisites'''\n",
        "!pip install interpolation\n",
        "epsilon_0 = 0.1"
      ]
    },
    {
      "cell_type": "code",
      "execution_count": null,
      "metadata": {
        "id": "b8ebfd2e"
      },
      "outputs": [],
      "source": [
        "''' Importing necessary packages'''\n",
        "%matplotlib inline\n",
        "import matplotlib.pyplot as plt\n",
        "plt.rcParams[\"figure.figsize\"] = (11, 5)  #set default figure size\n",
        "plt.rcParams['figure.facecolor'] = 'white'\n",
        "\n",
        "params__ = {'legend.fontsize': 25,\n",
        "         'axes.labelsize': 32,\n",
        "         'axes.titlesize':32,\n",
        "         'xtick.labelsize':32,\n",
        "         'ytick.labelsize':32}\n",
        "\n",
        "plt.rcParams.update(params__)\n",
        "\n",
        "import numpy as np\n",
        "from interpolation import interp\n",
        "from numba import njit, float64\n",
        "from numba.experimental import jitclass\n",
        "import scipy.interpolate as intrp\n",
        "from scipy.stats import norm\n",
        "from collections import OrderedDict\n",
        "from collections import Counter\n",
        "from collections import defaultdict\n",
        "import matplotlib.pylab as pl\n",
        "import matplotlib as mpl\n",
        "import random\n",
        "import pandas as pd\n",
        "import math\n",
        "from scipy.stats import entropy\n",
        "from scipy.stats import bernoulli\n",
        "from sklearn.linear_model import LogisticRegression\n",
        "from sklearn.ensemble import RandomForestClassifier\n",
        "from sklearn.ensemble import GradientBoostingClassifier\n",
        "from sklearn.ensemble import VotingClassifier\n",
        "from xgboost import XGBClassifier\n",
        "from sklearn.svm import SVC\n",
        "from sklearn.pipeline import make_pipeline\n",
        "from sklearn.preprocessing import StandardScaler\n",
        "from sklearn.metrics.pairwise import cosine_similarity\n",
        "from sklearn.model_selection import KFold, cross_validate\n",
        "from sklearn.model_selection import KFold, cross_val_score\n",
        "from sklearn.ensemble import AdaBoostClassifier\n",
        "from sklearn.tree import DecisionTreeClassifier\n",
        "from sklearn.naive_bayes import GaussianNB\n",
        "from tabulate import tabulate\n",
        "exp_seed = 20\n",
        "exp_seed = 29\n",
        "np.random.seed(exp_seed)\n"
      ]
    },
    {
      "cell_type": "code",
      "source": [
        "T=60"
      ],
      "metadata": {
        "id": "J6ukCQWiRUe7"
      },
      "execution_count": null,
      "outputs": []
    },
    {
      "cell_type": "markdown",
      "source": [
        "# The Data and Data Functions"
      ],
      "metadata": {
        "id": "DFsbGu9suq-F"
      }
    },
    {
      "cell_type": "code",
      "execution_count": null,
      "metadata": {
        "id": "X4RQFmiriQH_"
      },
      "outputs": [],
      "source": [
        "# Setup\n",
        "\n",
        "pl.rcParams.update({'font.size': 32})\n",
        "\n",
        "'''various classifiers and income/savings percentiles'''\n",
        "# Setting up the necessary income information\n",
        "inc_perc_2019 =  [0, 610.12, 4067.48, 7118.1, 9151.84, 10168.71, 11185.58, 12308.21, 13592.52, 14849.37, 15912, 17143.43, 18303.68, 19341.91, 20337.42, 21386.83, 22585.73, 24021.55, 25197.05, 25986.14, 27292.82, 28472.39, 29710.94, 30510.2, 31727.4, 32844.94, 34237.04, 35590.49, 36511.78, 37624.23, 38702.12, 40381.99, 41062.27, 42664.86, 43766.13, 45351.44, 46320.52, 47792.94, 49114.88, 50843.56, 51120.15, 52674.94, 53953.15, 55816.06, 56944.79, 58404, 59995.4, 61027.52, 62557.91, 64093.39, 65953.25, 67225.35, 69039.45, 70736.61, 71992.44, 73744.51, 75899.26, 77109.34, 78874.63, 80867.7, 82366.56, 84420.64, 86474.72, 88471.86, 90961.16, 92536.29, 94841.54, 97184.41, 99805.9, 101891.51, 104403.18, 106873.16, 109407.2, 112059.2, 114916.61, 118074, 121705.24, 124363.34, 128125.77, 132193.25, 135856.02, 140328.22, 144539.08, 149581.75, 153673.64, 159080.34, 165244.62, 171851.23, 178813.74, 187307.67, 197314.7, 207041.07, 219817.04, 235075.19, 252493.18, 276588.96, 310655.16, 365232.67, 483131.76]\n",
        "prctng= [0.01, 0.02, 0.03, 0.04, 0.05, 0.06, 0.07, 0.08, 0.09, 0.1, 0.11, 0.12, 0.13, 0.14, 0.15, 0.16, 0.17, 0.18, 0.19, 0.2, 0.21, 0.22, 0.23, 0.24, 0.25, 0.26, 0.27, 0.28, 0.29, 0.3, 0.31, 0.32, 0.33, 0.34, 0.35, 0.36, 0.37, 0.38, 0.39, 0.4, 0.41, 0.42, 0.43, 0.44, 0.45, 0.46, 0.47, 0.48, 0.49, 0.5, 0.51, 0.52, 0.53, 0.54, 0.55, 0.56, 0.57, 0.58, 0.59, 0.6, 0.61, 0.62, 0.63, 0.64, 0.65, 0.66, 0.67, 0.68, 0.6900000000000001, 0.7000000000000001, 0.71, 0.72, 0.73, 0.74, 0.75, 0.76, 0.77, 0.78, 0.79, 0.8, 0.81, 0.82, 0.83, 0.84, 0.85, 0.86, 0.87, 0.88, 0.89, 0.9, 0.91, 0.92, 0.93, 0.94, 0.95, 0.96, 0.97, 0.98, 0.99]\n",
        "interp_=intrp.interp1d(prctng,inc_perc_2019,fill_value=\"extrapolate\")\n",
        "values_=interp_(np.random.random(size=10000))\n",
        "incomes = values_ /(12000.0)\n",
        "inc_10 = (np.percentile(incomes, 10))\n",
        "inc_20 = (np.percentile(incomes, 20))\n",
        "inc_30= (np.percentile(incomes, 30))\n",
        "inc_40 =(np.percentile(incomes, 40))\n",
        "inc_50 =(np.percentile(incomes, 50))\n",
        "inc_60 = (np.percentile(incomes, 60))\n",
        "inc_70 =(np.percentile(incomes, 70))\n",
        "inc_80 =(np.percentile(incomes, 80))\n",
        "inc_90= (np.percentile(incomes, 90))\n",
        "inc_99 =(np.percentile(incomes, 99))\n",
        "\n",
        "inc_10_sum=[]\n",
        "inc_20_sum=[]\n",
        "inc_30_sum=[]\n",
        "inc_40_sum=[]\n",
        "inc_50_sum=[]\n",
        "inc_60_sum=[]\n",
        "inc_70_sum=[]\n",
        "inc_80_sum=[]\n",
        "inc_90_sum=[]\n",
        "inc_99_sum=[]\n",
        "inc_99_more = []\n",
        "\n",
        "for k in incomes:\n",
        "        if k < inc_10:\n",
        "            inc_10_sum.append(k)\n",
        "\n",
        "        if k >= inc_10 and k < inc_20:\n",
        "            inc_20_sum.append(k)\n",
        "\n",
        "        if  k >= inc_20 and k < inc_30:\n",
        "            inc_30_sum.append(k)\n",
        "\n",
        "        if k >= inc_30 and k < inc_40:\n",
        "            inc_40_sum.append(k)\n",
        "\n",
        "        if k >= inc_40 and k < inc_50:\n",
        "            inc_50_sum.append(k)\n",
        "\n",
        "        if k >= inc_50 and k < inc_60:\n",
        "            inc_60_sum.append(k)\n",
        "\n",
        "        if k >= inc_60 and k < inc_70:\n",
        "            inc_70_sum.append(k)\n",
        "\n",
        "        if k >= inc_70 and k < inc_80:\n",
        "            inc_80_sum.append(k)\n",
        "\n",
        "        if k >= inc_80 and k < inc_90:\n",
        "            inc_90_sum.append(k)\n",
        "\n",
        "        if k >= inc_90 and k < inc_99 :\n",
        "            inc_99_sum.append(k)\n",
        "\n",
        "        if k >= inc_99:\n",
        "            inc_99_more.append(k)\n",
        "\n",
        "\n",
        "inc_10_avg = np.mean(inc_10_sum)\n",
        "inc_20_avg = np.mean(inc_20_sum)\n",
        "inc_30_avg = np.mean(inc_30_sum)\n",
        "inc_40_avg = np.mean(inc_40_sum)\n",
        "inc_50_avg = np.mean(inc_50_sum)\n",
        "inc_60_avg = np.mean(inc_60_sum)\n",
        "inc_70_avg = np.mean(inc_70_sum)\n",
        "inc_80_avg = np.mean(inc_80_sum)\n",
        "inc_90_avg = np.mean(inc_90_sum)\n",
        "inc_99_avg = np.mean(inc_99_sum)\n",
        "inc_99_avg_more = np.mean(inc_99_more)\n",
        "\n",
        "#Setting up savings information\n",
        "saving_val = [-94516.52, -54867.26, -35734.82,\n",
        "              -25936.24, -18386.58, -11926.06, -7469.49, -3835.64,\n",
        "              -1832.38, -466.58, 3.43, 178.2, 502.44, 860.92, 1577.19,\n",
        "              2592.8, 3452.04, 4480.43, 5378.37, 6368.35, 7363.47, 8511.79, 9689.16,\n",
        "              10777.34, 12430.11, 14197.79, 16060.99, 18106.62, 20340.88, 23695.62, 27250.07,\n",
        "              30994.35, 36382.96, 40616.62, 45081.82, 50409.19, 55408.58, 59543.95, 63103.9, 67469.07,\n",
        "              71802.48, 75801.39, 80406.68, 84408.2, 89548.35, 94983.2, 100589.66, 106335.51, 114194.83,\n",
        "              121411.37, 127446.43, 134207.73, 141621.65, 150028.88, 158430.46, 167469.68, 174943.76, 182100.06,\n",
        "              191929.7, 201311.36, 211096.7, 219405.74, 228563.2, 238313.46, 249137.43, 260147.01, 271875.08,\n",
        "              288498.14, 301999.85, 314920.61, 328617.37, 349362.49, 365919.18, 382911.64, 403283.56, 428623.03,\n",
        "              455610.73, 485176.88, 523925.5, 558189.68, 591350.95, 637050.12, 681782.41, 737122.98, 795218.85, 854908.75,\n",
        "              928665.81, 991188.75, 1085969.92, 1219126.46, 1355268.26, 1541905.98, 1767510.16, 2080569.86, 2584130.26, 3294388.49, 4640603.15, 6557022.79, 11099166.07]\n",
        "savings_prctng= [0.01, 0.02, 0.03, 0.04, 0.05, 0.06, 0.07, 0.08, 0.09, 0.1, 0.11, 0.12, 0.13, 0.14, 0.15, 0.16, 0.17, 0.18, 0.19, 0.2, 0.21, 0.22, 0.23, 0.24, 0.25, 0.26, 0.27, 0.28, 0.29, 0.3, 0.31, 0.32, 0.33, 0.34, 0.35, 0.36, 0.37, 0.38, 0.39, 0.4, 0.41, 0.42, 0.43, 0.44, 0.45, 0.46, 0.47, 0.48, 0.49, 0.5, 0.51, 0.52, 0.53, 0.54, 0.55, 0.56, 0.57, 0.58, 0.59, 0.6, 0.61, 0.62, 0.63, 0.64, 0.65, 0.66, 0.67, 0.68, 0.6900000000000001, 0.7000000000000001, 0.71, 0.72, 0.73, 0.74, 0.75, 0.76, 0.77, 0.78, 0.79, 0.8, 0.81, 0.82, 0.83, 0.84, 0.85, 0.86, 0.87, 0.88, 0.89, 0.9, 0.91, 0.92, 0.93, 0.94, 0.95, 0.96, 0.97, 0.98, 0.99]\n",
        "interp_s=intrp.interp1d(savings_prctng,saving_val,fill_value=\"extrapolate\")\n",
        "savings_s=interp_s(np.random.random(size=10000))/1000\n",
        "savings_10 = (np.percentile(savings_s, 10))\n",
        "savings_20 = (np.percentile(savings_s, 20))\n",
        "savings_30= (np.percentile(savings_s, 30))\n",
        "savings_40 =(np.percentile(savings_s, 40))\n",
        "savings_50 =(np.percentile(savings_s, 50))\n",
        "savings_60 = (np.percentile(savings_s, 60))\n",
        "savings_70 =(np.percentile(savings_s, 70))\n",
        "savings_80 =(np.percentile(savings_s, 80))\n",
        "savings_90= (np.percentile(savings_s, 90))\n",
        "savings_99 =(np.percentile(savings_s, 99))\n",
        "savings_values = [savings_10,savings_20,savings_30,savings_40,savings_50,savings_60,savings_70,savings_80,savings_90,savings_99, 1000000]\n",
        "\n",
        "'''the basic expenditures are deined by the income percentiles 20th, 40th, etc. based on the labor statistic data and the monthly ean average expenditures '''\n",
        "def basic_expenditure(income):\n",
        "    basic_needs = 0\n",
        "    if income <= inc_10:\n",
        "        basic_needs = 25856/12\n",
        "    if income > inc_10 and income <= inc_20:\n",
        "        basic_needs = 31499/12\n",
        "    if income > inc_20 and income<= inc_30:\n",
        "        basic_needs = 37131/12\n",
        "    if income > inc_30 and income <= inc_40:\n",
        "        basic_needs = 43822/12\n",
        "    if income > inc_40 and income <=inc_50:\n",
        "        basic_needs = 49367/12\n",
        "    if income > inc_50 and income <=inc_60:\n",
        "        basic_needs = 56720/12\n",
        "    if income > inc_60 and income <=inc_70:\n",
        "        basic_needs = 66435/12\n",
        "    if income > inc_70 and income <=inc_80:\n",
        "        basic_needs = 75945/12\n",
        "    if income >inc_80 and income <=inc_90:\n",
        "        basic_needs = 96913/12\n",
        "    if income >inc_90:\n",
        "        basic_needs = 145967/12\n",
        "    #basic_needs = 5000\n",
        "    return basic_needs/1000\n",
        "\n",
        "clf_threshold_Q5 = int(np.quantile(incomes,0.50))"
      ]
    },
    {
      "cell_type": "code",
      "source": [
        "savings_s = np.array(savings_s)\n",
        "print(np.median(savings_s))\n",
        "print(np.mean(savings_s))\n",
        "print(np.quantile(savings_s,0.8))\n",
        "incomes_4 = incomes/4\n",
        "print(np.amin(incomes_4),np.quantile(incomes_4,0.25),np.quantile(incomes_4,0.5),np.quantile(incomes_4,0.75),np.amax(incomes_4))\n"
      ],
      "metadata": {
        "colab": {
          "base_uri": "https://localhost:8080/"
        },
        "id": "xOjjuDebkBmg",
        "outputId": "f3d46adb-def2-4c66-db39-e05aa206e651"
      },
      "execution_count": null,
      "outputs": [
        {
          "output_type": "stream",
          "name": "stdout",
          "text": [
            "123.84247106101597\n",
            "611.472558506949\n",
            "550.6621589588297\n",
            "-0.012630124937888334 0.6590702756480373 1.3491511280458877 2.413772021921748 12.51177838737948\n"
          ]
        }
      ]
    },
    {
      "cell_type": "code",
      "source": [
        "Q3 = np.quantile(incomes_4,0.75)\n",
        "Q1 = np.quantile(incomes_4,0.25)\n",
        "IQR = Q3-Q1\n",
        "low_level = Q1\n",
        "mid_level = Q3\n",
        "hih_level = Q3+1.5*IQR\n",
        "low_income = incomes_4[(incomes_4 <= low_level)]\n",
        "mid_income = incomes_4[(incomes_4 > low_level) & (incomes_4 <= mid_level)]\n",
        "hih_income = incomes_4[(incomes_4 > mid_level) & (incomes_4 <= hih_level)]"
      ],
      "metadata": {
        "id": "dYOTzwM2N4ls"
      },
      "execution_count": null,
      "outputs": []
    },
    {
      "cell_type": "code",
      "source": [
        "print(np.amin(low_income))\n",
        "print(np.amax(low_income))\n",
        "print(np.amin(mid_income))\n",
        "print(np.amax(mid_income))\n",
        "print(np.amin(hih_income))\n",
        "print(np.amax(hih_income))"
      ],
      "metadata": {
        "colab": {
          "base_uri": "https://localhost:8080/"
        },
        "id": "aSs0a6ATPrTf",
        "outputId": "52ec4989-0fb9-442e-f816-57928011aeee"
      },
      "execution_count": null,
      "outputs": [
        {
          "output_type": "stream",
          "name": "stdout",
          "text": [
            "-0.012630124937888334\n",
            "0.6590391133881675\n",
            "0.659080663067994\n",
            "2.4136560149901882\n",
            "2.4141200427164256\n",
            "5.041293849567724\n"
          ]
        }
      ]
    },
    {
      "cell_type": "code",
      "source": [
        "np.random.seed(1234)\n",
        "ubnd = np.quantile(incomes,0.29) #Q3+1.5*IQR\n",
        "lbnd = np.quantile(incomes,0.05)\n",
        "income_ind = np.where(np.logical_and(incomes<ubnd, incomes>lbnd))\n",
        "ind = np.random.choice(income_ind[0],100)\n",
        "savings_sample = savings_s[ind]\n",
        "incomes_sample = incomes[ind]/4\n",
        "positive_ind = np.where(incomes_sample>0)\n",
        "incomes_sample = incomes_sample[positive_ind]\n",
        "savings_sample = savings_sample[positive_ind]\n",
        "income_pairs = np.array([(0.9*e,1.1*e) for e in incomes_sample])\n",
        "income_pairs_str = \"[\"+\",\".join([\"[\"+str(x[0])+\",\"+str(x[1])+\"]\" for x in income_pairs])+\"]\"\n",
        "print(income_pairs_str)"
      ],
      "metadata": {
        "colab": {
          "base_uri": "https://localhost:8080/"
        },
        "id": "MYO5opjX4UyD",
        "outputId": "d4cc6b10-8150-4ad1-b4de-8ca70f244ec6"
      },
      "execution_count": null,
      "outputs": [
        {
          "output_type": "stream",
          "name": "stdout",
          "text": [
            "[[3.6010733266043453,4.401311843627534],[2.4864390090370136,3.038981011045239],[0.2643746215512544,0.3231245374515332],[1.1098210982472954,1.3564480089689166],[1.1644534072460542,1.4232208310785108],[1.8095337754763052,2.211652392248818],[2.1359805449604274,2.610642888284967],[1.4440834903879594,1.7649909326963948],[0.24172076124469252,0.2954364859657353],[3.8354968625126173,4.687829498626533],[1.8405802496577086,2.2495980829149773],[1.5752488724454956,1.9253041774333834],[1.2370333255086268,1.5119296200660994],[4.339497053260388,5.303829731762696],[0.5713431562324628,0.698308302061899],[0.58994126194141,0.7210393201506121],[2.482790577733043,3.0345218172292747],[0.5702721618642341,0.696999308945175],[1.8108258079352932,2.213231543032025],[2.50362864714751,3.059990568735846],[3.713544467119362,4.538776570923665],[2.2541672121179808,2.7550932592553097],[2.9180526926552064,3.566508846578586],[1.2286244100470967,1.5016520567242293],[0.5234966128673425,0.6398291935045297],[1.0481396857263403,1.2810596158877494],[2.233044889837837,2.729277087579579],[2.23592824847307,2.7328011925781968],[0.3221582039570268,0.39374891594747724],[3.225686757921318,3.942506037459389],[1.7909044583072418,2.188883226819962],[2.919798096919214,3.568642118456818],[0.9969917459366812,1.2185454672559437],[3.052277264829739,3.7305611014585702],[0.676993242312352,0.8274361850484303],[1.4195451702009951,1.734999652467883],[1.6645374578608552,2.0344346707188232],[0.7211189184085706,0.8813675669438086],[2.7791045405967405,3.3966833273960164],[0.44841037907653697,0.5480571299824342],[0.7866352353304236,0.9614430654038512],[2.0245323856908337,2.474428471399908],[1.269245698153671,1.5513002977433759],[4.450035688706285,5.438932508418793],[0.2636695923401544,0.322262835082411],[0.24855778439810153,0.30379284759767966],[1.101619624597411,1.3464239856190579],[1.4967331472795726,1.8293405133417],[3.320934972870507,4.058920522397287],[0.8341511996156976,1.0195181328636305],[3.284373207747545,4.014233920580333],[1.230497702102596,1.503941635903173],[2.5123697798589295,3.070674175383136],[0.569080820892547,0.6955432255353352],[1.1807003044141051,1.443078149839462],[1.452637260717776,1.7754455408772818],[2.081836535162927,2.5444668763102443],[0.38901577236666474,0.47546372178147916],[0.9356761875604734,1.1436042292405788],[0.5765997677804418,0.7047330495094288],[2.0286575235749322,2.479470306591584],[1.5567333432010109,1.902674086134569],[3.8351364736162625,4.687389023308765],[0.9889426495728283,1.2087076828112346],[0.33720360106984515,0.4121377346409219],[1.1562192886641356,1.4131569083672768],[3.7652166583366675,4.601931471300372],[1.789638864664079,2.187336390144986],[2.258100415509558,2.7599005078450154],[0.5625406344033606,0.687549664270774],[1.7116824074738841,2.092056275801414],[0.6690045489391517,0.8176722264811855],[0.9715332298465716,1.1874295031458098],[1.3400240464213533,1.6378071678483208],[2.434708419057223,2.9757547344032726],[0.5712704884543025,0.6982194858885921],[2.1799884734147845,2.664430356395848],[1.3285087902989994,1.6237329659209994],[1.0471400078355249,1.2798377873545304],[2.051755490193754,2.507701154681255],[0.8556230001077071,1.0457614445760866],[1.310329390654891,1.6015136996893113],[0.18610088287939563,0.22745663463037244],[1.4427249164082872,1.7633304533879066],[0.3470541773467258,0.42417732786822043],[0.7345667896056135,0.8978038539624166],[0.8911511372920873,1.0891847233569956],[3.528340744173154,4.3124164651005215],[0.431052505241025,0.5268419508501417],[0.8586976143774452,1.049519306461322],[2.0368130734023553,2.4894382008251013],[0.7532764338767513,0.9206711969604738],[2.9558335154075213,3.612685407720304],[1.7979561753560882,2.197501992101886],[2.543976086949231,3.1093041062712827],[1.1717175631202932,1.4320992438136917],[3.950011532243616,4.827791872742197],[0.2027139484228464,0.24776149251681226],[1.5772990865273133,1.9278099946444942],[1.1427060935118885,1.396640780958975]]\n"
          ]
        }
      ]
    },
    {
      "cell_type": "code",
      "source": [
        "len(income_pairs)"
      ],
      "metadata": {
        "colab": {
          "base_uri": "https://localhost:8080/"
        },
        "id": "AS8hfbbPkh-E",
        "outputId": "13634fda-db21-4fa9-c2c5-2c6f95b802f8"
      },
      "execution_count": null,
      "outputs": [
        {
          "output_type": "execute_result",
          "data": {
            "text/plain": [
              "100"
            ]
          },
          "metadata": {},
          "execution_count": 9
        }
      ]
    },
    {
      "cell_type": "code",
      "source": [
        "np.random.seed(1234)\n",
        "Q3 = np.quantile(incomes,0.90)\n",
        "Q1 = np.quantile(incomes,0.10)\n",
        "#IQR = Q3-Q1\n",
        "ubnd = Q3\n",
        "lbnd = Q1\n",
        "income_ind = np.where(np.logical_and(incomes<ubnd, incomes>lbnd))\n",
        "ind = np.random.choice(income_ind[0],100)\n",
        "savings_sample = savings_s[ind]\n",
        "incomes_sample = incomes[ind]/4\n",
        "positive_ind = np.where(incomes_sample>0)\n",
        "incomes_sample = incomes_sample[positive_ind]\n",
        "savings_sample = savings_sample[positive_ind]\n",
        "income_pairs = np.array([(0.9*e,1.1*e) for e in incomes_sample])\n",
        "income_pairs_str = \"[\"+\",\".join([\"[\"+str(x[0])+\",\"+str(x[1])+\"]\" for x in income_pairs])+\"]\"\n",
        "print(income_pairs_str)"
      ],
      "metadata": {
        "colab": {
          "base_uri": "https://localhost:8080/"
        },
        "id": "-m62k13MsHgg",
        "outputId": "460b517e-227c-4929-f126-3482df1f9b2e"
      },
      "execution_count": null,
      "outputs": [
        {
          "output_type": "stream",
          "name": "stdout",
          "text": [
            "[[0.35809889755958213,0.4376764303506004],[2.0953456591197184,2.560978027812989],[0.6874734949574797,0.8402453827258086],[1.950229849617591,2.3836142606437223],[0.9365569857952202,1.1446807604163802],[1.1729737390546098,1.433634569955634],[2.5409785167716623,3.105640409387587],[0.4131883053190159,0.5050079287232417],[0.3492966028511677,0.4269180701514272],[0.9868430357462232,1.206141488134273],[0.6053385349426769,0.7398582093743828],[0.6031159997713877,0.7371417774983628],[2.22468884809829,2.7190641476756876],[1.175667340936839,1.4369267500339145],[1.602944791057228,1.9591547446255013],[3.382130508777515,4.13371506628363],[0.9788398854321402,1.1963598599726157],[2.1834211986731002,2.6686259094893447],[0.7617732589539117,0.9310562053881143],[1.041210375530831,1.2725904589821269],[0.6818410314968981,0.8333612607184311],[2.003106315496004,2.448241052272894],[0.5871114239382951,0.7175806292579162],[1.3634093610834581,1.6663892191020044],[0.7258969560431752,0.8872073907194363],[1.897206753048281,2.318808253725677],[2.279941647371974,2.786595346787968],[3.1664920828054908,3.8701569900956],[1.3295521890106683,1.6250082310130392],[1.1814488386671178,1.4439930250375885],[0.3870920910270523,0.47311255569973054],[2.036195240188261,2.488683071341208],[1.3101624074208296,1.6013096090699028],[1.7048535870472687,2.08370993972444],[1.5608239737536294,1.9076737456988806],[0.7518568667571284,0.9189361704809348],[0.8308810789806803,1.015521318754165],[1.9258539892500899,2.3538215424167768],[0.47264610918393707,0.5776785778914787],[0.9377272217853398,1.1461110488487487],[2.325023846203405,2.841695812026384],[1.0553756387104936,1.2899035584239367],[1.4767998266433304,1.8049775658974039],[2.0870341450245764,2.5508195105855935],[1.3513788201202952,1.651685224591472],[1.0751542050743192,1.3140773617575014],[0.6728693823281574,0.8223959117344146],[1.531963234475332,1.8723995088031837],[0.7143337362506588,0.873074566528583],[0.4049422482865341,0.49492941457243056],[3.5059621532559473,4.285064853979492],[0.9838035378662716,1.2024265462809987],[0.9927290674984216,1.2133355269425155],[1.3773269832931174,1.6833996462471437],[0.4969574264874131,0.6073924101512826],[0.6277450552568408,0.7672439564250276],[0.3657845944750631,0.4470700599139661],[1.9450690176459502,2.377306577122828],[1.0056371831772017,1.2291121127721356],[0.4572066273891647,0.5588081001423124],[0.7564607428019321,0.9245631300912504],[3.0768035285072695,3.7605376459533293],[0.4582616507619462,0.5600975731534898],[2.436010753402878,2.977346476381295],[1.557078227191569,1.903095611011918],[0.7888898979914442,0.9641987642117651],[3.247784943416913,3.969514930842894],[0.31828040134357266,0.3890093794199222],[0.7143337362506588,0.873074566528583],[0.941072025270571,1.1501991419973645],[1.4626910268323565,1.787733477239547],[0.5421030358692014,0.6625703771734684],[0.9920629158067439,1.2125213415415759],[0.41990673415490953,0.5132193417448895],[1.9402891583308686,2.3714645268488397],[3.184964450615183,3.8927343285296683],[3.010981531661709,3.6800885386976443],[0.5665946109016925,0.692504524435402],[0.33720360106984515,0.4121377346409219],[0.6926967709677418,0.8466293867383512],[1.2707218293252067,1.5531044580641418],[1.6507833458151424,2.0176240893296185],[1.3905340319375934,1.699541594590392],[2.7514841222728577,3.3629250383334925],[1.2976343463926532,1.5859975344799095],[2.7107874327695956,3.3131846400517277],[2.3811904961024837,2.9103439396808137],[1.2504314887056185,1.5283051528624227],[0.31415696349253797,0.3839696220464353],[0.6044105263711174,0.7387239766758101],[1.832114475881681,2.23925102607761],[1.5787694626150062,1.9296071209738968],[1.0706142711514959,1.308528553629606],[2.1321794791671693,2.6059971412043184],[0.5704352751507139,0.6971986696286504],[1.8680041761299666,2.2831162152699593],[1.346258008582079,1.6454264549336521],[0.9400011298826193,1.1488902698565349],[1.0066625067860717,1.2303652860718655],[1.5478641389214511,1.8918339475706625]]\n"
          ]
        }
      ]
    },
    {
      "cell_type": "code",
      "source": [
        "print(np.amin(incomes_sample))"
      ],
      "metadata": {
        "colab": {
          "base_uri": "https://localhost:8080/"
        },
        "id": "BUIpbB0xwrIE",
        "outputId": "c8e13aa9-c58c-409d-e0a8-f6b1f4ac84ce"
      },
      "execution_count": null,
      "outputs": [
        {
          "output_type": "stream",
          "name": "stdout",
          "text": [
            "0.3490632927694866\n"
          ]
        }
      ]
    },
    {
      "cell_type": "code",
      "source": [
        "print(np.amax(incomes_sample))\n",
        "print(np.amin(incomes_sample))\n",
        "print(np.amin(savings_sample))\n",
        "print(np.amax(savings_sample))"
      ],
      "metadata": {
        "colab": {
          "base_uri": "https://localhost:8080/"
        },
        "id": "fwo27dR7hjhA",
        "outputId": "d092d224-1b19-4ca5-87cf-deee84189ad3"
      },
      "execution_count": null,
      "outputs": [
        {
          "output_type": "stream",
          "name": "stdout",
          "text": [
            "3.8955135036177193\n",
            "0.3490632927694866\n",
            "-125.46249633748279\n",
            "10011.929834894929\n"
          ]
        }
      ]
    },
    {
      "cell_type": "code",
      "source": [
        "z_score_savings = np.array([(x-np.mean(savings_s))/np.std(savings_s) for x in savings_s])\n",
        "savings_ind = np.where(np.logical_and(z_score_savings>=-1, z_score_savings<=1))\n",
        "ind = np.random.choice(savings_ind[0],100)\n",
        "savings_selected = savings_s[ind]\n",
        "incomes_sample = incomes[ind]/4\n",
        "positive_ind = np.where(incomes_sample>0)[:50]\n",
        "savings_selected = savings_selected[positive_ind]\n",
        "incomes_sample = incomes_sample[positive_ind]\n",
        "print(\"[\"+\",\".join([str(s) for s in savings_selected])+\"]\")\n",
        "income_pairs = np.array([(0.9*e,1.1*e) for e in incomes_sample])"
      ],
      "metadata": {
        "colab": {
          "base_uri": "https://localhost:8080/"
        },
        "id": "4BiXHlDx4Etk",
        "outputId": "8e06ebe9-c309-4e7c-cb92-efc48422e12f"
      },
      "execution_count": null,
      "outputs": [
        {
          "output_type": "stream",
          "name": "stdout",
          "text": [
            "[6.0156231960377555,124.89059168878055,-14.027741799241713,1449.51737653026,245.38122128567394,-10.476489214000278,14.322473404187496,8.28799748555035,24.3538343418439,7.006431963609363,125.38494570756286,424.2746836479286,51.62811862013114,139.70450569162645,186.76189816105173,50.44140684013023,447.65584229208196,734.1568761120551,11.74997706486821,7.252261609634404,-6.441064786138724,90.91889246173682,386.0941062028242,203.92215550528255,83.46491872852626,990.7287251924737,0.1650589800619107,-6.935091760274202,19.235395309500035,-47.76052729293024,25.92189570596193,124.31816455174328,89.16646289265917,103.60353293971455,57.222624320070054,147.73971022766835,1.9709905131155028,9.606551444946565,174.01711090924653,303.8903255071258,179.58393944232245,1190.9832474081738,0.05107734209968135,88.35789656010695,139.4758777872175,578.0464572510487,322.269790046064,105.88085740116725,-0.24170787694233173,160.16960098119955,-44.50573465753758,490.2877205498272,104.15948436003886,1.0054038697424021,638.2944028271169,284.6365332442769,845.5523285458644,937.7446320994134,-0.3239577735106517,324.20832224158187,6.079955818995656,15.936063360615917,327.20071945811003,124.25375748650396,5.288687405553347,0.6751830445285013,55.43401756309315,206.35782004187138,683.8805967890274,39.086650601134004,105.050399151759,88.87956608778669,89.98996842330148,652.620406167518,320.7479277913951,194.67612787623344,1090.55329381333,-0.20290188329338169,809.4493867384065,3.253851651537032,69.80594047162549,137.4665528604225,169.11026454369207,295.82238437101296,259.4072975411727,12.315674668736124,25.798002191113163,368.4925596437142,958.575291344206,-17.112467623467282,0.15309940411000975,829.3007738672702,25.23096777433079,381.8183232753023,23.11190589055268,14.462069882361128,20.48739972464822,5.374647990325946,127.8624171134055,770.9971715044335]\n"
          ]
        }
      ]
    },
    {
      "cell_type": "code",
      "execution_count": null,
      "metadata": {
        "id": "W7t8F8vwkJAd",
        "colab": {
          "base_uri": "https://localhost:8080/"
        },
        "outputId": "6e4994a9-48d9-486a-8572-17c1d3afb78e"
      },
      "outputs": [
        {
          "output_type": "stream",
          "name": "stdout",
          "text": [
            "[np.float64(-0.9148082722502089), np.float64(6.650053325051216), np.float64(24.138643556895794), np.float64(69.0990593267382), np.float64(123.84247106101597), np.float64(202.14246012098914), np.float64(315.04273192569525), np.float64(550.6621589588297), np.float64(1189.4950201180704), np.float64(11307.223085134534)]\n",
            "(np.float64(0.6319783406609292), np.float64(1.7132872641669266), np.float64(2.653383733330679), np.float64(3.669050372675338), np.float64(4.776181192406041), np.float64(6.084595258022097), np.float64(7.633376657350683), np.float64(9.728228221509761), np.float64(13.194088811746926), np.float64(22.58529415892817), np.float64(45.69806918127802))\n"
          ]
        }
      ],
      "source": [
        "''' Initial setup for precarity calculation and learning '''\n",
        "stateseq = [0,1,2,3,4,5,6,7,8,9]\n",
        "Incomes = (inc_10_avg,inc_20_avg,inc_30_avg,inc_40_avg,inc_50_avg,inc_60_avg,inc_70_avg,inc_80_avg,inc_90_avg,inc_99_avg, inc_99_avg_more)\n",
        "Savings = [savings_10,savings_20,savings_30,savings_40,savings_50,savings_60,savings_70,savings_80,savings_90,savings_99]\n",
        "print(Savings)\n",
        "print(Incomes)"
      ]
    }
  ]
}